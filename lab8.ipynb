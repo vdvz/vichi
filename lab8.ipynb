{
 "cells": [
  {
   "cell_type": "code",
   "execution_count": 2,
   "metadata": {},
   "outputs": [
    {
     "name": "stdout",
     "output_type": "stream",
     "text": [
      "34000\n",
      "[3.0, 3.9999999999999996, 2.9999999999999996]\n"
     ]
    }
   ],
   "source": [
    "import numpy as np\n",
    "from time import perf_counter_ns\n",
    "\n",
    "#метод прогонки\n",
    "def triang_matrix_method(a,b,c,f):\n",
    "    t1_start = perf_counter_ns()\n",
    "    a, b, c, f = tuple(map(lambda k_list: list(map(float, k_list)), (a, b, c, f)))\n",
    "    alpha = []\n",
    "    beta = []\n",
    "    \n",
    "    alpha.insert(0, -b[0] / c[0])\n",
    "    beta.insert(0, f[0] / c[0])\n",
    "    n = len(f)\n",
    "    x = [0]*n\n",
    "    \n",
    "    for i in range(1, n):\n",
    "        alpha.insert(i, -b[i]/(a[i]*alpha[i-1] + c[i]))\n",
    "        beta.insert(i, (f[i] - a[i]*beta[i-1])/(a[i]*alpha[i-1] + c[i]))\n",
    "    \n",
    "    x[n-1] = beta[n-1]\n",
    "\n",
    "    for i in range(n-1, 0, -1):\n",
    "        x[i - 1] = alpha[i - 1]*x[i] + beta[i - 1]\n",
    "    \n",
    "    t1_stop = perf_counter_ns()\n",
    "    print(t1_stop - t1_start)\n",
    "    \n",
    "    return x\n",
    "\n",
    "\n",
    "\n",
    "#main diagonal = c\n",
    "#a lower\n",
    "#b upper\n",
    "a = [0, -1, -1]\n",
    "b = [-1, -1, 0]\n",
    "c = [2, 2, 2]\n",
    "f = [2, 2, 2]\n",
    "\n",
    "print(triang_matrix_method(a,b,c,f))\n"
   ]
  },
  {
   "cell_type": "code",
   "execution_count": 3,
   "metadata": {},
   "outputs": [
    {
     "name": "stdout",
     "output_type": "stream",
     "text": [
      "85100\n",
      "[3. 4. 3.]\n"
     ]
    }
   ],
   "source": [
    "#метод прогонки\n",
    "def triang_matrix_method_np(a,b,c,f):\n",
    "    t1_start = perf_counter_ns()\n",
    "    #a, b, c, f = tuple(map(lambda k_list: list(map(float, k_list)), (a, b, c, f)))\n",
    "    n = f.shape[0]\n",
    "    alpha = np.asarray([0]*n, dtype=np.float)\n",
    "    beta = np.asarray([0]*n, dtype=np.float)\n",
    "    \n",
    "    alpha[0] = -b[0] / c[0]\n",
    "    beta[0] = f[0] / c[0]\n",
    "    \n",
    "    x = np.zeros(n)\n",
    "    \n",
    "    for i in range(1, n):\n",
    "        alpha[i]= -b[i]/(a[i]*alpha[i-1] + c[i])\n",
    "        beta[i] = (f[i] - a[i]*beta[i-1])/(a[i]*alpha[i-1] + c[i])\n",
    "    \n",
    "    x[n-1] = beta[n-1]\n",
    "\n",
    "    for i in range(n-1, 0, -1):\n",
    "        x[i - 1] = alpha[i - 1]*x[i] + beta[i - 1]\n",
    "    \n",
    "    t1_stop = perf_counter_ns()\n",
    "    print(t1_stop - t1_start)\n",
    "    \n",
    "    return x\n",
    "\n",
    "#main diagonal = c\n",
    "#a lower\n",
    "#b upper\n",
    "a = np.array([0, -1, -1], dtype=np.float)\n",
    "b = np.array([-1, -1, 0], dtype=np.float)\n",
    "c = np.array([2, 2, 2], dtype=np.float)\n",
    "f = np.array([2, 2, 2], dtype=np.float)\n",
    "\n",
    "print(triang_matrix_method_np(a,b,c,f))"
   ]
  },
  {
   "cell_type": "code",
   "execution_count": 4,
   "metadata": {},
   "outputs": [],
   "source": [
    "#получение матрицы L\n",
    "def get_L(m):\n",
    "    L = m.copy()\n",
    "    for i in range(L.shape[0]):\n",
    "            L[i, i] = 1\n",
    "            L[i, i+1 :] = 0\n",
    "    return np.matrix(L)"
   ]
  },
  {
   "cell_type": "code",
   "execution_count": 5,
   "metadata": {},
   "outputs": [],
   "source": [
    "#получение матрицы U\n",
    "def get_U(m):\n",
    "    U = m.copy()\n",
    "    for i in range(1, U.shape[0]):\n",
    "        U[i, :i] = 0\n",
    "    return U"
   ]
  },
  {
   "cell_type": "code",
   "execution_count": 6,
   "metadata": {},
   "outputs": [],
   "source": [
    "#метод LU разложения\n",
    "\n",
    "#разложение матрицы на коэфициенты\n",
    "def decompose_to_LU(a):\n",
    "    \n",
    "\n",
    "    # create emtpy LU-matrix\n",
    "    lu_matrix = np.matrix(np.zeros([a.shape[0], a.shape[1]]))\n",
    "    n = a.shape[0]\n",
    "\n",
    "    for k in range(n):\n",
    "        for j in range(k, n):\n",
    "            lu_matrix[k, j] = a[k, j] - lu_matrix[k, :k] * lu_matrix[:k, j]\n",
    "        for i in range(k + 1, n):\n",
    "            lu_matrix[i, k] = (a[i, k] - lu_matrix[i, :k] * lu_matrix[:k, k]) / lu_matrix[k, k]\n",
    "\n",
    "    return lu_matrix\n"
   ]
  },
  {
   "cell_type": "code",
   "execution_count": 7,
   "metadata": {},
   "outputs": [],
   "source": [
    "def solve_LU(lu_matrix, b):\n",
    "    t2_start = perf_counter_ns()\n",
    "    \n",
    "    # get supporting vector y\n",
    "    y = np.matrix(np.zeros([lu_matrix.shape[0], 1]))\n",
    "    for i in range(y.shape[0]):\n",
    "        y[i, 0] = b[i, 0] - lu_matrix[i, :i] * y[:i]\n",
    "\n",
    "    # get vector of answers x\n",
    "    x = np.matrix(np.zeros([lu_matrix.shape[0], 1]))\n",
    "    for i in range(1, x.shape[0] + 1):\n",
    "        x[-i, 0] = (y[-i] - lu_matrix[-i, -i:] * x[-i:, 0] )/ lu_matrix[-i, -i]\n",
    "        \n",
    "    t2_stop = perf_counter_ns()\n",
    "    print(t2_stop - t2_start)\n",
    "\n",
    "    return x"
   ]
  },
  {
   "cell_type": "code",
   "execution_count": 10,
   "metadata": {},
   "outputs": [
    {
     "name": "stdout",
     "output_type": "stream",
     "text": [
      "[[1.         0.5        0.33333333]\n",
      " [0.33333333 0.75       0.2       ]\n",
      " [0.25       0.2        0.5       ]]\n",
      "[[1.         0.         0.        ]\n",
      " [0.33333333 1.         0.        ]\n",
      " [0.25       0.12857143 1.        ]]\n",
      "[[1.         0.5        0.33333333]\n",
      " [0.         0.58333333 0.08888889]\n",
      " [0.         0.         0.4052381 ]]\n",
      "[[1.         0.5        0.33333333]\n",
      " [0.33333333 0.58333333 0.08888889]\n",
      " [0.25       0.12857143 0.4052381 ]]\n",
      "[[1.         0.5        0.33333333]\n",
      " [0.33333333 0.75       0.2       ]\n",
      " [0.25       0.2        0.5       ]]\n",
      "688200\n",
      "[[0.01410106]\n",
      " [1.78613396]\n",
      " [3.27849589]]\n"
     ]
    }
   ],
   "source": [
    "matrix = np.array([[1, 1/2, 1/3], [1/3, 3/4, 1/5], [1/4, 1/5, 1/2]], dtype=np.float)\n",
    "LU = decompose_to_LU(matrix)\n",
    "L = get_L(LU)\n",
    "U = get_U(LU)\n",
    "\n",
    "print(matrix)\n",
    "print(L)\n",
    "print(U)\n",
    "print(LU)\n",
    "print(L*U)\n",
    "\n",
    "print(solve_LU(LU, np.transpose(np.array([[2, 2, 2]], dtype=np.float))))"
   ]
  },
  {
   "cell_type": "code",
   "execution_count": null,
   "metadata": {},
   "outputs": [],
   "source": []
  }
 ],
 "metadata": {
  "kernelspec": {
   "display_name": "Python 3",
   "language": "python",
   "name": "python3"
  },
  "language_info": {
   "codemirror_mode": {
    "name": "ipython",
    "version": 3
   },
   "file_extension": ".py",
   "mimetype": "text/x-python",
   "name": "python",
   "nbconvert_exporter": "python",
   "pygments_lexer": "ipython3",
   "version": "3.8.5"
  }
 },
 "nbformat": 4,
 "nbformat_minor": 4
}
